{
 "cells": [
  {
   "cell_type": "markdown",
   "metadata": {},
   "source": [
    "# Before your start:\n",
    "\n",
    "    Read the README.md file\n",
    "    Comment as much as you can and use the resources (README.md file)\n",
    "    Happy learning!"
   ]
  },
  {
   "cell_type": "markdown",
   "metadata": {},
   "source": [
    "In this exercise, we  will generate random numbers from the continuous disributions we learned in the lesson. There are two ways to generate random numbers:\n",
    "\n",
    "1. Using the numpy library \n",
    "1. using the Scipy library \n",
    "\n",
    "Use either or both of the lbraries in this exercise."
   ]
  },
  {
   "cell_type": "code",
   "execution_count": 74,
   "metadata": {},
   "outputs": [],
   "source": [
    "import matplotlib.pyplot as plt\n",
    "import pandas as pd\n",
    "import numpy as np\n",
    "from scipy.stats import uniform\n",
    "from scipy.stats import norm\n",
    "from scipy.stats import expon\n"
   ]
  },
  {
   "cell_type": "markdown",
   "metadata": {},
   "source": [
    "## Uniform Distribution\n",
    "\n",
    "To generate uniform random numbers between any two given values using scipy, we can either use the following code or the code that we have\n",
    "discussed in class:"
   ]
  },
  {
   "cell_type": "code",
   "execution_count": 4,
   "metadata": {},
   "outputs": [
    {
     "name": "stdout",
     "output_type": "stream",
     "text": [
      "[2.06545403 2.02617002 2.03847837 2.7675486  2.0974997  2.55275575\n",
      " 2.12038715 2.10709533 2.25679402 2.49758111]\n"
     ]
    },
    {
     "data": {
      "text/plain": [
       "array([0.06545403, 0.02617002, 0.03847837, 0.7675486 , 0.0974997 ,\n",
       "       0.55275575, 0.12038715, 0.10709533, 0.25679402, 0.49758111])"
      ]
     },
     "execution_count": 4,
     "metadata": {},
     "output_type": "execute_result"
    }
   ],
   "source": [
    "x = uniform.rvs(size=10)\n",
    "a = 2\n",
    "b = 3\n",
    "randoms  = a + (b-a)*x\n",
    "print(randoms)"
   ]
  },
  {
   "cell_type": "markdown",
   "metadata": {},
   "source": [
    "**Your task:**\n",
    "\n",
    "1. Based on the code above, write a function that generates uniformly distributed random numbers. There are several requirements for your function:\n",
    "    * It should accept 3 parameters: \n",
    "        * `bottom` - the lower boundary of the generated numbers\n",
    "        * `ceiling` - the upper boundary of the generated numbers\n",
    "        * `count` - how many numbers to generate\n",
    "    * It should return an array of uniformly distributed random numbers\n",
    "\n",
    "1. Call your function with 2 sets of params below:\n",
    "    * bottom=10, ceiling=15, count=100\n",
    "    * bottom=10, ceiling=60, count=1,000\n",
    "\n",
    "1. Plot the uniform distributions generated above using histograms, where x axis is the value and y axis is the count. Let the histogram's number of bins be 10.\n",
    "\n",
    "Your output should look like below:\n",
    "\n",
    "![uniform distribution](ud.png)"
   ]
  },
  {
   "cell_type": "code",
   "execution_count": 21,
   "metadata": {},
   "outputs": [
    {
     "data": {
      "text/plain": [
       "(array([107.,  84., 105., 111.,  89., 101., 110.,  92.,  99., 102.]),\n",
       " array([10.03444339, 15.02810144, 20.02175949, 25.01541753, 30.00907558,\n",
       "        35.00273363, 39.99639167, 44.99004972, 49.98370777, 54.97736581,\n",
       "        59.97102386]),\n",
       " <BarContainer object of 10 artists>)"
      ]
     },
     "execution_count": 21,
     "metadata": {},
     "output_type": "execute_result"
    },
    {
     "data": {
      "image/png": "[encoded data removed]",
      "text/plain": [
       "<Figure size 432x288 with 2 Axes>"
      ]
     },
     "metadata": {
      "needs_background": "light"
     },
     "output_type": "display_data"
    }
   ],
   "source": [
    "# your code here\n",
    "def uniform_random(low, high, k):\n",
    "    \n",
    "    x = uniform.rvs(size=k)\n",
    "    a = low;\n",
    "    b = high;\n",
    "    randoms  = a + (b-a)*x\n",
    "    return randoms;\n",
    "\n",
    "rand_values1 = uniform_random(10, 15, 100)\n",
    "rand_values2 = uniform_random(10, 60, 1000)\n",
    "\n",
    "fig, ax = plt.subplots(1,2, sharex=False, sharey=True)\n",
    "\n",
    "ax[0].hist(rand_values1, bins=10)\n",
    "ax[1].hist(rand_values2, bins=10)\n"
   ]
  },
  {
   "cell_type": "markdown",
   "metadata": {},
   "source": [
    "How are the two distributions different?"
   ]
  },
  {
   "cell_type": "code",
   "execution_count": null,
   "metadata": {},
   "outputs": [],
   "source": [
    "# your answer below\n",
    "\n",
    "#The 2nd distribution is more precise in the uniform behaviour because it has more samples."
   ]
  },
  {
   "cell_type": "markdown",
   "metadata": {},
   "source": [
    "## Normal Distribution\n",
    "\n",
    "1. In the same way in the Uniform Distribution challenge, write a function that generates normally distributed random numbers.\n",
    "1. Generate 1,000 normally distributed numbers with the average of 10 and standard deviation of 1\n",
    "1. Generate 1,000 normally distributed numbers with the average of 10 and standard deviation of 50\n",
    "2. Plot the distributions of the data generated.\n",
    "\n",
    "Expected output:\n",
    "\n",
    "![normal distribution](nd.png)"
   ]
  },
  {
   "cell_type": "code",
   "execution_count": 31,
   "metadata": {},
   "outputs": [
    {
     "data": {
      "text/plain": [
       "(array([ 3.,  1.,  1.,  5.,  3.,  8.,  2.,  5.,  8., 17.,  8., 15., 20.,\n",
       "        18., 20., 33., 37., 41., 36., 42., 38., 47., 56., 45., 50., 52.,\n",
       "        45., 46., 45., 31., 31., 35., 30., 24., 24., 14., 13.,  8., 12.,\n",
       "        10.,  8.,  4.,  2.,  2.,  0.,  2.,  1.,  1.,  0.,  1.]),\n",
       " array([-134.30275235, -128.23599525, -122.16923816, -116.10248106,\n",
       "        -110.03572396, -103.96896686,  -97.90220976,  -91.83545267,\n",
       "         -85.76869557,  -79.70193847,  -73.63518137,  -67.56842428,\n",
       "         -61.50166718,  -55.43491008,  -49.36815298,  -43.30139589,\n",
       "         -37.23463879,  -31.16788169,  -25.10112459,  -19.03436749,\n",
       "         -12.9676104 ,   -6.9008533 ,   -0.8340962 ,    5.2326609 ,\n",
       "          11.29941799,   17.36617509,   23.43293219,   29.49968929,\n",
       "          35.56644639,   41.63320348,   47.69996058,   53.76671768,\n",
       "          59.83347478,   65.90023187,   71.96698897,   78.03374607,\n",
       "          84.10050317,   90.16726026,   96.23401736,  102.30077446,\n",
       "         108.36753156,  114.43428866,  120.50104575,  126.56780285,\n",
       "         132.63455995,  138.70131705,  144.76807414,  150.83483124,\n",
       "         156.90158834,  162.96834544,  169.03510253]),\n",
       " <BarContainer object of 50 artists>)"
      ]
     },
     "execution_count": 31,
     "metadata": {},
     "output_type": "execute_result"
    },
    {
     "data": {
      "image/png": "[encoded data removed]",
      "text/plain": [
       "<Figure size 432x288 with 2 Axes>"
      ]
     },
     "metadata": {
      "needs_background": "light"
     },
     "output_type": "display_data"
    }
   ],
   "source": [
    "# your code here\n",
    "def norm_random(k, mean, st_dv):\n",
    "    \n",
    "    x = norm.rvs(size=k, loc = mean, scale = st_dv)\n",
    "    #a = low;\n",
    "    #b = high;\n",
    "    #normals  = a + (b-a)*x\n",
    "    return x;\n",
    "\n",
    "norm_values1 = norm_random(1000, 10, 1)\n",
    "norm_values2 = norm_random(1000, 10, 50)\n",
    "\n",
    "fig, ax = plt.subplots(1,2, sharex=False, sharey=True)\n",
    "\n",
    "ax[0].hist(norm_values1, bins=50)\n",
    "ax[1].hist(norm_values2, bins=50)"
   ]
  },
  {
   "cell_type": "markdown",
   "metadata": {},
   "source": [
    "How are the two distributions different?"
   ]
  },
  {
   "cell_type": "code",
   "execution_count": null,
   "metadata": {},
   "outputs": [],
   "source": [
    "# your answer below\n",
    "\n",
    "#The second one take more values horizontally because of the standart deviation."
   ]
  },
  {
   "cell_type": "markdown",
   "metadata": {},
   "source": [
    "## Normal Distribution of Real Data\n",
    "\n",
    "In this challenge we are going to take a look the real data. We will use vehicles.csv file for this exercise"
   ]
  },
  {
   "cell_type": "markdown",
   "metadata": {},
   "source": [
    "First import vehicles.csv.\n",
    "Then plot the histograms for the following variables:\n",
    "\n",
    "1. Fuel Barrels/Year"
   ]
  },
  {
   "cell_type": "code",
   "execution_count": 50,
   "metadata": {},
   "outputs": [
    {
     "data": {
      "text/plain": [
       "(array([6.5000e+01, 1.6000e+01, 5.4000e+01, 3.2000e+02, 2.2040e+03,\n",
       "        4.5610e+03, 1.0248e+04, 6.7910e+03, 4.6130e+03, 4.3530e+03,\n",
       "        1.3610e+03, 7.3500e+02, 4.3900e+02, 1.3000e+02, 0.0000e+00,\n",
       "        3.6000e+01, 0.0000e+00, 2.1000e+01, 0.0000e+00, 5.0000e+00]),\n",
       " array([ 0.06      ,  2.41135714,  4.76271429,  7.11407143,  9.46542857,\n",
       "        11.81678571, 14.16814286, 16.5195    , 18.87085714, 21.22221429,\n",
       "        23.57357143, 25.92492857, 28.27628571, 30.62764286, 32.979     ,\n",
       "        35.33035714, 37.68171429, 40.03307143, 42.38442857, 44.73578571,\n",
       "        47.08714286]),\n",
       " <BarContainer object of 20 artists>)"
      ]
     },
     "execution_count": 50,
     "metadata": {},
     "output_type": "execute_result"
    },
    {
     "data": {
      "image/png": "[encoded data removed]",
      "text/plain": [
       "<Figure size 432x288 with 1 Axes>"
      ]
     },
     "metadata": {
      "needs_background": "light"
     },
     "output_type": "display_data"
    }
   ],
   "source": [
    "# your code here\n",
    "vehicles =  pd.read_csv('vehicles.csv')\n",
    "plt.hist(vehicles['Fuel Barrels/Year'], bins=20)"
   ]
  },
  {
   "cell_type": "markdown",
   "metadata": {},
   "source": [
    "2. CO2 Emission Grams/Mile "
   ]
  },
  {
   "cell_type": "code",
   "execution_count": 52,
   "metadata": {},
   "outputs": [
    {
     "data": {
      "text/plain": [
       "(array([9.000e+00, 2.100e+01, 2.800e+01, 2.130e+02, 5.950e+02, 2.410e+03,\n",
       "        4.016e+03, 7.043e+03, 6.377e+03, 5.770e+03, 2.459e+03, 2.422e+03,\n",
       "        1.980e+03, 1.262e+03, 7.120e+02, 4.430e+02, 3.000e+00, 1.270e+02,\n",
       "        0.000e+00, 3.600e+01, 0.000e+00, 2.100e+01, 0.000e+00, 0.000e+00,\n",
       "        5.000e+00]),\n",
       " array([  37.        ,   86.30285714,  135.60571429,  184.90857143,\n",
       "         234.21142857,  283.51428571,  332.81714286,  382.12      ,\n",
       "         431.42285714,  480.72571429,  530.02857143,  579.33142857,\n",
       "         628.63428571,  677.93714286,  727.24      ,  776.54285714,\n",
       "         825.84571429,  875.14857143,  924.45142857,  973.75428571,\n",
       "        1023.05714286, 1072.36      , 1121.66285714, 1170.96571429,\n",
       "        1220.26857143, 1269.57142857]),\n",
       " <BarContainer object of 25 artists>)"
      ]
     },
     "execution_count": 52,
     "metadata": {},
     "output_type": "execute_result"
    },
    {
     "data": {
      "image/png": "[encoded data removed]",
      "text/plain": [
       "<Figure size 432x288 with 1 Axes>"
      ]
     },
     "metadata": {
      "needs_background": "light"
     },
     "output_type": "display_data"
    }
   ],
   "source": [
    "# your code here\n",
    "plt.hist(vehicles['CO2 Emission Grams/Mile'], bins=25)\n"
   ]
  },
  {
   "cell_type": "markdown",
   "metadata": {},
   "source": [
    "3. Combined MPG"
   ]
  },
  {
   "cell_type": "code",
   "execution_count": 45,
   "metadata": {},
   "outputs": [
    {
     "data": {
      "text/plain": [
       "(array([2.600e+01, 1.710e+02, 4.410e+02, 1.996e+03, 4.188e+03, 2.315e+03,\n",
       "        5.979e+03, 6.375e+03, 3.158e+03, 4.041e+03, 1.546e+03, 2.345e+03,\n",
       "        1.331e+03, 4.530e+02, 6.320e+02, 3.450e+02, 1.620e+02, 1.290e+02,\n",
       "        8.400e+01, 2.300e+01, 1.030e+02, 3.700e+01, 1.200e+01, 1.600e+01,\n",
       "        1.600e+01, 2.000e+00, 1.500e+01, 5.000e+00, 4.000e+00, 2.000e+00]),\n",
       " array([ 7.        ,  8.63333333, 10.26666667, 11.9       , 13.53333333,\n",
       "        15.16666667, 16.8       , 18.43333333, 20.06666667, 21.7       ,\n",
       "        23.33333333, 24.96666667, 26.6       , 28.23333333, 29.86666667,\n",
       "        31.5       , 33.13333333, 34.76666667, 36.4       , 38.03333333,\n",
       "        39.66666667, 41.3       , 42.93333333, 44.56666667, 46.2       ,\n",
       "        47.83333333, 49.46666667, 51.1       , 52.73333333, 54.36666667,\n",
       "        56.        ]),\n",
       " <BarContainer object of 30 artists>)"
      ]
     },
     "execution_count": 45,
     "metadata": {},
     "output_type": "execute_result"
    },
    {
     "data": {
      "image/png": "[encoded data removed]",
      "text/plain": [
       "<Figure size 432x288 with 1 Axes>"
      ]
     },
     "metadata": {
      "needs_background": "light"
     },
     "output_type": "display_data"
    }
   ],
   "source": [
    "# your code here\n",
    "plt.hist(vehicles['Combined MPG'], bins=30)"
   ]
  },
  {
   "cell_type": "markdown",
   "metadata": {},
   "source": [
    "Which one(s) of the variables are nearly normally distributed? How do you know?"
   ]
  },
  {
   "cell_type": "code",
   "execution_count": null,
   "metadata": {},
   "outputs": [],
   "source": [
    "# your answer here\n",
    "#The second one,it seems more normally distribuited"
   ]
  },
  {
   "cell_type": "markdown",
   "metadata": {},
   "source": [
    "## Exponential Distribution"
   ]
  },
  {
   "cell_type": "markdown",
   "metadata": {},
   "source": [
    "1. Using `numpy.random.exponential`, create a function that returns a list of numbers exponentially distributed with the mean of 10. \n",
    "\n",
    "1. Use the function to generate two number sequences with the size of 1 and 100.\n",
    "\n",
    "1. Plot the distributions as histograms with the nubmer of bins as 100.\n",
    "\n",
    "Your output should look like below:\n",
    "\n",
    "![exponential distribution](ed.png)"
   ]
  },
  {
   "cell_type": "code",
   "execution_count": 72,
   "metadata": {},
   "outputs": [
    {
     "data": {
      "text/plain": [
       "(array([72., 65., 65., 57., 47., 50., 43., 39., 41., 35., 29., 27., 35.,\n",
       "        20., 24., 28., 21., 24., 20., 15., 22., 19., 15., 10., 10., 12.,\n",
       "        13.,  7.,  7.,  9.,  4.,  4.,  7.,  8.,  5.,  2.,  9.,  5.,  4.,\n",
       "         3.,  6.,  1.,  3.,  3.,  3.,  3.,  2.,  1.,  4.,  2.,  3.,  1.,\n",
       "         3.,  3.,  2.,  5.,  1.,  5.,  3.,  0.,  0.,  0.,  1.,  2.,  1.,\n",
       "         1.,  1.,  0.,  1.,  0.,  0.,  1.,  0.,  0.,  0.,  0.,  1.,  0.,\n",
       "         0.,  0.,  0.,  1.,  1.,  0.,  0.,  0.,  0.,  0.,  0.,  0.,  1.,\n",
       "         0.,  0.,  0.,  0.,  0.,  1.,  0.,  0.,  1.]),\n",
       " array([1.60370845e-01, 7.60206353e+00, 1.50437562e+01, 2.24854489e+01,\n",
       "        2.99271416e+01, 3.73688343e+01, 4.48105270e+01, 5.22522197e+01,\n",
       "        5.96939124e+01, 6.71356050e+01, 7.45772977e+01, 8.20189904e+01,\n",
       "        8.94606831e+01, 9.69023758e+01, 1.04344068e+02, 1.11785761e+02,\n",
       "        1.19227454e+02, 1.26669147e+02, 1.34110839e+02, 1.41552532e+02,\n",
       "        1.48994225e+02, 1.56435917e+02, 1.63877610e+02, 1.71319303e+02,\n",
       "        1.78760995e+02, 1.86202688e+02, 1.93644381e+02, 2.01086073e+02,\n",
       "        2.08527766e+02, 2.15969459e+02, 2.23411152e+02, 2.30852844e+02,\n",
       "        2.38294537e+02, 2.45736230e+02, 2.53177922e+02, 2.60619615e+02,\n",
       "        2.68061308e+02, 2.75503000e+02, 2.82944693e+02, 2.90386386e+02,\n",
       "        2.97828078e+02, 3.05269771e+02, 3.12711464e+02, 3.20153156e+02,\n",
       "        3.27594849e+02, 3.35036542e+02, 3.42478235e+02, 3.49919927e+02,\n",
       "        3.57361620e+02, 3.64803313e+02, 3.72245005e+02, 3.79686698e+02,\n",
       "        3.87128391e+02, 3.94570083e+02, 4.02011776e+02, 4.09453469e+02,\n",
       "        4.16895161e+02, 4.24336854e+02, 4.31778547e+02, 4.39220240e+02,\n",
       "        4.46661932e+02, 4.54103625e+02, 4.61545318e+02, 4.68987010e+02,\n",
       "        4.76428703e+02, 4.83870396e+02, 4.91312088e+02, 4.98753781e+02,\n",
       "        5.06195474e+02, 5.13637166e+02, 5.21078859e+02, 5.28520552e+02,\n",
       "        5.35962244e+02, 5.43403937e+02, 5.50845630e+02, 5.58287323e+02,\n",
       "        5.65729015e+02, 5.73170708e+02, 5.80612401e+02, 5.88054093e+02,\n",
       "        5.95495786e+02, 6.02937479e+02, 6.10379171e+02, 6.17820864e+02,\n",
       "        6.25262557e+02, 6.32704249e+02, 6.40145942e+02, 6.47587635e+02,\n",
       "        6.55029328e+02, 6.62471020e+02, 6.69912713e+02, 6.77354406e+02,\n",
       "        6.84796098e+02, 6.92237791e+02, 6.99679484e+02, 7.07121176e+02,\n",
       "        7.14562869e+02, 7.22004562e+02, 7.29446254e+02, 7.36887947e+02,\n",
       "        7.44329640e+02]),\n",
       " <BarContainer object of 100 artists>)"
      ]
     },
     "execution_count": 72,
     "metadata": {},
     "output_type": "execute_result"
    },
    {
     "data": {
      "image/png": "[encoded data removed]",
      "text/plain": [
       "<Figure size 432x288 with 2 Axes>"
      ]
     },
     "metadata": {
      "needs_background": "light"
     },
     "output_type": "display_data"
    }
   ],
   "source": [
    "# your code here\n",
    "def exponential_random(k):\n",
    "    \n",
    "    x = np.random.exponential(scale = k, size=1000)\n",
    "    \n",
    "    return x;\n",
    "\n",
    "exponential_values1 = exponential_random(1)\n",
    "exponential_values2 = exponential_random(100)\n",
    "\n",
    "fig, ax = plt.subplots(1,2, sharex=False, sharey=True)\n",
    "\n",
    "ax[0].hist(exponential_values1, bins=100)\n",
    "ax[1].hist(exponential_values2, bins=100)"
   ]
  },
  {
   "cell_type": "markdown",
   "metadata": {},
   "source": [
    "How are the two distributions different?"
   ]
  },
  {
   "cell_type": "code",
   "execution_count": null,
   "metadata": {},
   "outputs": [],
   "source": [
    "# your answer here\n",
    "#The SIZE of the SCALE is different, which influence the values."
   ]
  },
  {
   "cell_type": "markdown",
   "metadata": {},
   "source": [
    "## Exponential Distribution of Real Data\n",
    "\n",
    "Suppose that the amount of time one spends in a bank is exponentially distributed with mean as 10 minutes (i.e. λ = 1/10). What is the probability that a customer will spend less than fifteen minutes in the bank? \n",
    "\n",
    "Write a code in python to solve this problem"
   ]
  },
  {
   "cell_type": "code",
   "execution_count": 94,
   "metadata": {},
   "outputs": [
    {
     "data": {
      "text/plain": [
       "0.02253726555394387"
      ]
     },
     "execution_count": 94,
     "metadata": {},
     "output_type": "execute_result"
    }
   ],
   "source": [
    "# your answer here\n",
    "# Hint: This is same as saying P(x<15)\n",
    "prob = expon.pdf(14.9, scale=10)\n",
    "prob\n",
    "#test = expon.rvs(scale=10, size=14)\n",
    "#plt.hist(test)"
   ]
  },
  {
   "cell_type": "markdown",
   "metadata": {},
   "source": [
    "What is the probability that the customer will spend more than 15 minutes"
   ]
  },
  {
   "cell_type": "code",
   "execution_count": 95,
   "metadata": {},
   "outputs": [
    {
     "data": {
      "text/plain": [
       "0.02209099779593782"
      ]
     },
     "execution_count": 95,
     "metadata": {},
     "output_type": "execute_result"
    }
   ],
   "source": [
    "# your answer here\n",
    "prob = expon.pdf(15.1, scale=10)\n",
    "prob"
   ]
  },
  {
   "cell_type": "code",
   "execution_count": 89,
   "metadata": {},
   "outputs": [
    {
     "name": "stdout",
     "output_type": "stream",
     "text": [
      "0.049787068367863944\n",
      "0.6321205588285577\n",
      "2.543473005306227\n"
     ]
    },
    {
     "data": {
      "text/plain": [
       "[<matplotlib.lines.Line2D at 0x1e7afd6ecd0>]"
      ]
     },
     "execution_count": 89,
     "metadata": {},
     "output_type": "execute_result"
    },
    {
     "data": {
      "image/png": "[encoded data removed]",
      "text/plain": [
       "<Figure size 432x288 with 1 Axes>"
      ]
     },
     "metadata": {
      "needs_background": "light"
     },
     "output_type": "display_data"
    }
   ],
   "source": [
    "exp = expon(1) \n",
    "print(exp.pdf(4))\n",
    "print(exp.cdf(2))       \n",
    "print(exp.rvs()) \n",
    "x = np.linspace(0,10,100)\n",
    "y = expon.pdf(x)\n",
    "fig, ax = plt.subplots(1, 1)\n",
    "ax.plot(x,y)"
   ]
  },
  {
   "cell_type": "code",
   "execution_count": null,
   "metadata": {},
   "outputs": [],
   "source": []
  }
 ],
 "metadata": {
  "kernelspec": {
   "display_name": "Python 3 (ipykernel)",
   "language": "python",
   "name": "python3"
  },
  "language_info": {
   "codemirror_mode": {
    "name": "ipython",
    "version": 3
   },
   "file_extension": ".py",
   "mimetype": "text/x-python",
   "name": "python",
   "nbconvert_exporter": "python",
   "pygments_lexer": "ipython3",
   "version": "3.9.12"
  }
 },
 "nbformat": 4,
 "nbformat_minor": 4
}
